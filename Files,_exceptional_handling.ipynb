{
  "cells": [
    {
      "cell_type": "markdown",
      "metadata": {
        "id": "NwySmIjs-UUm"
      },
      "source": [
        "THEORY QUESTIONS:\n"
      ]
    },
    {
      "cell_type": "markdown",
      "metadata": {
        "id": "mjy85Nii-Zo5"
      },
      "source": [
        "#1.What is the difference between interpreted and compiled languages?\n",
        "An interpreted language executes code directly line-by-line without a separate compilation step, while a compiled language first translates the entire source code into machine code (binary format) which can then be run directly by the computer, resulting in generally faster execution speeds for compiled languages compared to interpreted ones.\n"
      ]
    },
    {
      "cell_type": "markdown",
      "metadata": {
        "id": "4X0xjx5_ALy2"
      },
      "source": [
        "#2. What is exception handling in Python?\n",
        "Exception handling in Python is a mechanism that allows programs to respond to errors instead of crashing. It helps programmers manage and respond to errors in a controlled way."
      ]
    },
    {
      "cell_type": "markdown",
      "metadata": {
        "id": "A6072FtRAqlL"
      },
      "source": [
        "#3. What is the purpose of the finally block in exception handling?\n",
        "The purpose of a finally block in exception handling is to ensure that important code is executed, even if an exception occurs. This code can include closing files or database connections, or logging diagnostic messages."
      ]
    },
    {
      "cell_type": "markdown",
      "metadata": {
        "id": "dPxGbAz-BFkr"
      },
      "source": [
        "#4. What is logging in Python?\n",
        "Python logging is a module that tracks events that occur while a program is running. It's a built-in feature of Python that helps developers monitor, debug, and troubleshoot their applications."
      ]
    },
    {
      "cell_type": "markdown",
      "metadata": {
        "id": "_KxfyilDB6bA"
      },
      "source": [
        "#5. What is the significance of the __del__ method in Python?\n",
        "In Python, the __del__ method releases resources and is called when an object is deleted. It's also known as the destructor method or the finalizer of an object."
      ]
    },
    {
      "cell_type": "markdown",
      "metadata": {
        "id": "AKmoMUVjB_9M"
      },
      "source": [
        "#6. What is the difference between import and from ... import in Python?\n",
        "In general, you should use the import statement when you need to use many attributes from a module, or when the module name is short and easy to remember. You should use the from statement when you only need to use a few attributes from a module, or when the module name is long and hard to remember."
      ]
    },
    {
      "cell_type": "markdown",
      "metadata": {
        "id": "saRSR5ABCKWS"
      },
      "source": [
        "#7.  How can you handle multiple exceptions in Python?\n",
        "In Python, you can handle multiple exceptions using try-except blocks with multiple except clauses. You can also use a single except clause to handle multiple exceptions."
      ]
    },
    {
      "cell_type": "markdown",
      "metadata": {
        "id": "XZhT-XXcCag3"
      },
      "source": [
        "#8. What is the purpose of the with statement when handling files in Python?\n",
        "The with statement in Python manages resources like files, database connections, and network sockets. It ensures that resources are properly initialized and cleaned up, even if there are exceptions.\n"
      ]
    },
    {
      "cell_type": "markdown",
      "metadata": {
        "id": "AQpFk3mpCm1r"
      },
      "source": [
        "#9. What is the difference between multithreading and multiprocessing?\n",
        "Multiprocessing uses multiple CPUs to run many processes at a time while multithreading creates multiple threads within a single process to get faster and more efficient task execution. Both Multiprocessing and Multithreading are used to increase the computing power of a system in different ways."
      ]
    },
    {
      "cell_type": "markdown",
      "metadata": {
        "id": "RmIOB5DmDBxy"
      },
      "source": [
        "#10. What are the advantages of using logging in a program?\n",
        "Logging in a program helps with error detection, performance monitoring, and security auditing. It can also help with user behavior analysis and compliance."
      ]
    },
    {
      "cell_type": "markdown",
      "metadata": {
        "id": "jcpw5tkBDO1T"
      },
      "source": [
        "#11. What is memory management in Python?\n",
        "Python's memory management system allocates and releases memory for Python programs. It uses a combination of techniques, including a private heap, memory pools, and a garbage collector.\n"
      ]
    },
    {
      "cell_type": "markdown",
      "metadata": {
        "id": "pGoR-v8KDeRr"
      },
      "source": [
        "#12. What are the basic steps involved in exception handling in Python?\n",
        "In Python, the basic steps for exception handling involve using a \"try...except\" block, where you execute a block of code within the \"try\" statement, and if an exception occurs, the code within the corresponding \"except\" block is executed instead of the program crashing.\n",
        "\n"
      ]
    },
    {
      "cell_type": "markdown",
      "metadata": {
        "id": "GCxcwpshDqBr"
      },
      "source": [
        "#13. Why is memory management important in Python?\n",
        "Memory management is important in Python because it helps programs run efficiently and prevents memory leaks. Memory management is the process of allocating and freeing memory."
      ]
    },
    {
      "cell_type": "markdown",
      "metadata": {
        "id": "919hpZ6CDyiX"
      },
      "source": [
        "#14. What is the role of try and except in exception handling?\n",
        "In Python, the try and except blocks are used to handle errors, or exceptions, in your code. Try block tests a block of code for errors.\n",
        "Except block handles errors that occur in the try block.\n"
      ]
    },
    {
      "cell_type": "markdown",
      "metadata": {
        "id": "QmlJ4b0SEFAW"
      },
      "source": [
        "#15. How does Python's garbage collection system work?\n",
        "Python's garbage collection system uses reference counting and generational garbage collection to automatically remove objects that are no longer in use. This helps developers focus on writing code instead of worrying about memory management."
      ]
    },
    {
      "cell_type": "markdown",
      "metadata": {
        "id": "Gh8br8wqE92T"
      },
      "source": [
        "#16. What is the purpose of the else block in exception handling?\n",
        "In Python, the else block is used to run code when there are no exceptions in the try block. It's optional and should come after all the except blocks."
      ]
    },
    {
      "cell_type": "markdown",
      "metadata": {
        "id": "ToA2otnEFF4s"
      },
      "source": [
        "#17. What are the common logging levels in Python?\n",
        "Python has six log levels with each one assigned a specific integer indicating the severity of the log:\n",
        "NOTSET=0.\n",
        "DEBUG=10.\n",
        "INFO=20.\n",
        "WARN=30.\n",
        "ERROR=40.\n",
        "CRITICAL=50."
      ]
    },
    {
      "cell_type": "markdown",
      "metadata": {
        "id": "o6GLgum6FXUf"
      },
      "source": [
        "#18. What is the difference between os.fork() and multiprocessing in Python?\n",
        "The only real difference between the os. fork and multiprocessing  process is portability and library overhead, since os. fork is not supported in windows, and the multiprocessing framework is included to make multiprocessing."
      ]
    },
    {
      "cell_type": "markdown",
      "metadata": {
        "id": "P9IFB-sdFh9L"
      },
      "source": [
        "#19. What is the importance of closing a file in Python?\n",
        "Closing a file doesn't just mean ending its usage; it also ensures that any data changes are safely stored. Programs often work with temporary data in their memory, and when a file is saved and then closed, only these actions guarantee that all modifications are safely written back to disk."
      ]
    },
    {
      "cell_type": "markdown",
      "metadata": {
        "id": "JeL3WF9TFvwe"
      },
      "source": [
        "#20. What is the difference between file.read() and file.readline() in Python?\n",
        "In Python, the `read()` method is used to read a specified number of characters from a file or input stream, while the `readline()` method is used to read a single line from a file or input stream."
      ]
    },
    {
      "cell_type": "markdown",
      "metadata": {
        "id": "amaRFHn8F4kj"
      },
      "source": [
        "#21. What is the logging module in Python used for?\n",
        "The \"logging\" module in Python is used to systematically record events that occur within your program, allowing you to track information like errors, warnings, and other significant happenings, which is particularly helpful for debugging, monitoring, and troubleshooting your application."
      ]
    },
    {
      "cell_type": "markdown",
      "metadata": {
        "id": "1h-XqVTWGAAU"
      },
      "source": [
        "#22. What is the os module in Python used for in file handling?\n",
        "The Python OS module is essential for file-related tasks, enabling efficient file and directory management in programs. It allows you to easily handle the current working directory, create and delete directories, list files and folders, and perform file operations."
      ]
    },
    {
      "cell_type": "markdown",
      "metadata": {
        "id": "GTqVeSwvGOjf"
      },
      "source": [
        "#23. What are the challenges associated with memory management in Python?\n",
        "Python's memory management can be challenged by memory leaks, reference cycles, and inefficient memory usage.\n"
      ]
    },
    {
      "cell_type": "markdown",
      "metadata": {
        "id": "8n_u8UhCGU8U"
      },
      "source": [
        "#24. How do you raise an exception manually in Python?\n",
        "Python raise Keyword is used to raise exceptions or errors. The raise keyword raises an error and stops the control flow of the program. It is used to bring up the current exception in an exception handler so that it can be handled further up the call stack."
      ]
    },
    {
      "cell_type": "markdown",
      "metadata": {
        "id": "tiq2EqTpGpVf"
      },
      "source": [
        "#25. Why is it important to use multithreading in certain applications?\n",
        "Multithreading is important in certain applications because it allows for the simultaneous execution of multiple tasks within a single program, significantly improving performance and responsiveness by utilizing multiple CPU cores efficiently, especially when dealing with operations that involve waiting for input/output (I/O) like network requests or disk access, preventing the application from freezing while waiting for a single task to complete.\n",
        "\n"
      ]
    },
    {
      "cell_type": "markdown",
      "metadata": {
        "id": "0PqhMZBpGw_P"
      },
      "source": [
        "Practical Questions:"
      ]
    },
    {
      "cell_type": "code",
      "execution_count": null,
      "metadata": {
        "colab": {
          "base_uri": "https://localhost:8080/"
        },
        "id": "1QemJ011IMUf",
        "outputId": "41fd5ead-9733-47c1-9a35-395545ee177d"
      },
      "outputs": [
        {
          "name": "stdout",
          "output_type": "stream",
          "text": [
            "I am studying at Pwskills\n"
          ]
        }
      ],
      "source": [
        "#1. How can you open a file for writing in Python and write a string to it?\n",
        "\n",
        "with open(\"file.txt\" , \"w\") as f:\n",
        "  f.write(\"I am studying at Pwskills\")\n",
        "\n",
        "f = open(\"file.txt\" , \"r\")\n",
        "print(f.read())"
      ]
    },
    {
      "cell_type": "code",
      "execution_count": null,
      "metadata": {
        "colab": {
          "base_uri": "https://localhost:8080/"
        },
        "id": "c4pDowjfJ28w",
        "outputId": "6aa65f8a-bea6-4a7a-d09a-c71a75ea012a"
      },
      "outputs": [
        {
          "name": "stdout",
          "output_type": "stream",
          "text": [
            "Using for loop\n",
            "Line1: Welcome\n",
            "Line2: to\n",
            "Line3: the\n",
            "Line4: course\n"
          ]
        }
      ],
      "source": [
        "#2. Write a Python program to read the contents of a file and print each line.\n",
        "\n",
        "L = [\"Welcome\\n\" , \"to\\n\" ,  \"the\\n\" , \"course\\n\"]\n",
        "\n",
        "file1 = open('myfile.txt', 'w')\n",
        "file1.writelines(L)\n",
        "file1.close()\n",
        "\n",
        "file1 = open('myfile.txt', 'r')\n",
        "count = 0\n",
        "\n",
        "print(\"Using for loop\")\n",
        "for line in file1:\n",
        "    count += 1\n",
        "    print(\"Line{\n",
        "\n",
        "    }: {}\".format(count, line.strip()))\n",
        "\n",
        "file1.close()"
      ]
    },
    {
      "cell_type": "code",
      "execution_count": null,
      "metadata": {
        "colab": {
          "base_uri": "https://localhost:8080/"
        },
        "id": "Q03xnY90Lw1f",
        "outputId": "ce14d78f-33ce-4e04-e5ca-7bec3ed4c3ab"
      },
      "outputs": [
        {
          "name": "stdout",
          "output_type": "stream",
          "text": [
            "Data not loaded\n"
          ]
        }
      ],
      "source": [
        "#3. How would you handle a case where the file doesn't exist while trying to open it for reading?\n",
        "\n",
        "try:\n",
        "    f = open('my_file.dat')\n",
        "    f.readfile()\n",
        "    print('Loaded data')\n",
        "except:\n",
        "    print('Data not loaded')"
      ]
    },
    {
      "cell_type": "code",
      "execution_count": null,
      "metadata": {
        "id": "bmOL1LFqL-su",
        "colab": {
          "base_uri": "https://localhost:8080/",
          "height": 220
        },
        "outputId": "8e0d2b9c-1581-4a85-cdde-a5b21bf907f0"
      },
      "outputs": [
        {
          "output_type": "error",
          "ename": "FileNotFoundError",
          "evalue": "[Errno 2] No such file or directory: 'Pwskills input file.txt'",
          "traceback": [
            "\u001b[0;31m---------------------------------------------------------------------------\u001b[0m",
            "\u001b[0;31mFileNotFoundError\u001b[0m                         Traceback (most recent call last)",
            "\u001b[0;32m<ipython-input-1-8d08d68bd61e>\u001b[0m in \u001b[0;36m<cell line: 0>\u001b[0;34m()\u001b[0m\n\u001b[1;32m      3\u001b[0m \u001b[0moutput_file\u001b[0m \u001b[0;34m=\u001b[0m \u001b[0mopen\u001b[0m\u001b[0;34m(\u001b[0m\u001b[0;34m\"Pwskills output file.txt\"\u001b[0m \u001b[0;34m,\u001b[0m \u001b[0;34m\"w\"\u001b[0m\u001b[0;34m)\u001b[0m\u001b[0;34m\u001b[0m\u001b[0;34m\u001b[0m\u001b[0m\n\u001b[1;32m      4\u001b[0m \u001b[0;34m\u001b[0m\u001b[0m\n\u001b[0;32m----> 5\u001b[0;31m \u001b[0;32mwith\u001b[0m \u001b[0mopen\u001b[0m\u001b[0;34m(\u001b[0m\u001b[0;34m\"Pwskills input file.txt\"\u001b[0m \u001b[0;34m,\u001b[0m \u001b[0;34m\"r\"\u001b[0m\u001b[0;34m)\u001b[0m \u001b[0;32mas\u001b[0m \u001b[0mscan\u001b[0m\u001b[0;34m:\u001b[0m\u001b[0;34m\u001b[0m\u001b[0;34m\u001b[0m\u001b[0m\n\u001b[0m\u001b[1;32m      6\u001b[0m     \u001b[0moutput_file\u001b[0m\u001b[0;34m.\u001b[0m\u001b[0mwrite\u001b[0m\u001b[0;34m(\u001b[0m\u001b[0mscan\u001b[0m\u001b[0;34m.\u001b[0m\u001b[0mread\u001b[0m\u001b[0;34m(\u001b[0m\u001b[0;34m)\u001b[0m\u001b[0;34m)\u001b[0m\u001b[0;34m\u001b[0m\u001b[0;34m\u001b[0m\u001b[0m\n\u001b[1;32m      7\u001b[0m \u001b[0;34m\u001b[0m\u001b[0m\n",
            "\u001b[0;31mFileNotFoundError\u001b[0m: [Errno 2] No such file or directory: 'Pwskills input file.txt'"
          ]
        }
      ],
      "source": [
        "#4. Write a Python script that reads from one file and writes its content to another file.\n",
        "\n",
        "output_file = open(\"Pwskills output file.txt\" , \"w\")\n",
        "\n",
        "with open(\"Pwskills input file.txt\" , \"r\") as scan:\n",
        "    output_file.write(scan.read())\n",
        "\n",
        "output_file.close()"
      ]
    },
    {
      "cell_type": "code",
      "execution_count": null,
      "metadata": {
        "colab": {
          "base_uri": "https://localhost:8080/"
        },
        "id": "xFQkbACWNfog",
        "outputId": "8d416938-593a-4d36-c02c-4a245e6dc113"
      },
      "outputs": [
        {
          "name": "stdout",
          "output_type": "stream",
          "text": [
            "Enter a number: 0\n",
            "Please enter number greater than zero\n"
          ]
        }
      ],
      "source": [
        "#5. How would you catch and handle division by zero error in Python.\n",
        "\n",
        "a = 18.0\n",
        "\n",
        "try:\n",
        "    b= int(input('Enter a number: '))\n",
        "    ans = a / b\n",
        "    print(f'Answer is: {ans}')\n",
        "except (ZeroDivisionError, ValueError):\n",
        "    print('Please enter number greater than zero')"
      ]
    },
    {
      "cell_type": "code",
      "execution_count": null,
      "metadata": {
        "id": "FPK_D24gN8kk"
      },
      "outputs": [],
      "source": [
        "#6. Write a Python program that logs an error message to a log file when a division by zero exception occurs.\n",
        "\n",
        "a = 10\n",
        "b = 0\n",
        "\n",
        "try:\n",
        "    result = a/b\n",
        "except ZeroDivisionError:\n",
        "    print(\"Error : Cannot be divided by zero\")\n"
      ]
    },
    {
      "cell_type": "code",
      "execution_count": null,
      "metadata": {
        "id": "ieo1qWBmQDt7",
        "colab": {
          "base_uri": "https://localhost:8080/"
        },
        "outputId": "8ff2a654-d4d4-4da4-9a48-76b4ee14f796"
      },
      "outputs": [
        {
          "output_type": "stream",
          "name": "stderr",
          "text": [
            "DEBUG:root:Harmless debug Message\n",
            "INFO:root:Just an information\n",
            "WARNING:root:Its a Warning\n",
            "ERROR:root:Did you try to divide by zero\n",
            "CRITICAL:root:Internet is down\n"
          ]
        }
      ],
      "source": [
        "#7. How do you log information at different levels (INFO, ERROR, WARNING) in Python using the logging module.\n",
        "\n",
        "import logging\n",
        "\n",
        "logging.basicConfig(filename=\"newfile.log\",\n",
        "                    format='%(asctime)s %(message)s',\n",
        "                    filemode='w')\n",
        "\n",
        "logger = logging.getLogger()\n",
        "\n",
        "logger.setLevel(logging.DEBUG)\n",
        "\n",
        "logger.debug(\"Harmless debug Message\")\n",
        "logger.info(\"Just an information\")\n",
        "logger.warning(\"Its a Warning\")\n",
        "logger.error(\"Did you try to divide by zero\")\n",
        "logger.critical(\"Internet is down\")\n"
      ]
    },
    {
      "cell_type": "code",
      "execution_count": null,
      "metadata": {
        "id": "oDfJX2uZS6Pe"
      },
      "outputs": [],
      "source": [
        "#8. Write a program to handle a file opening error using exception handling.\n",
        "\n",
        "try:\n",
        "    file = open(\"/etc/sensitive_file.txt\", \"w\")\n",
        "    file.write(\"Top secret information!\")\n",
        "    file.close()\n",
        "except PermissionError:\n",
        "    print(\"You don't have permission to write to this file!\")\n"
      ]
    },
    {
      "cell_type": "code",
      "execution_count": null,
      "metadata": {
        "colab": {
          "base_uri": "https://localhost:8080/"
        },
        "id": "BJZdjHXJTfQG",
        "outputId": "717f671c-fa5d-4410-a495-5faeb9741d54"
      },
      "outputs": [
        {
          "name": "stdout",
          "output_type": "stream",
          "text": [
            "['Welcome', 'to', 'the', 'course']\n"
          ]
        }
      ],
      "source": [
        "#9. How can you read a file line by line and store its content in a list in Python?\n",
        "filename = 'myfile.txt'\n",
        "\n",
        "with open(filename) as file:\n",
        "    lines = [line.rstrip() for line in file]\n",
        "\n",
        "print(lines)"
      ]
    },
    {
      "cell_type": "code",
      "execution_count": null,
      "metadata": {
        "id": "sRTnJcj1U_Qm"
      },
      "outputs": [],
      "source": [
        "#10. How can you append data to an existing file in Python?\n",
        "\n",
        "with open(\"test.txt\" , \"a\") as myfile:\n",
        "    myfile.write(\"appended text\")"
      ]
    },
    {
      "cell_type": "code",
      "execution_count": null,
      "metadata": {
        "colab": {
          "background_save": true,
          "base_uri": "https://localhost:8080/"
        },
        "id": "x3uom88nRJqN",
        "outputId": "eea68b37-7a7d-480b-9c02-a4bb64115928"
      },
      "outputs": [
        {
          "name": "stdout",
          "output_type": "stream",
          "text": [
            "That word is a key in the dictionary\n"
          ]
        }
      ],
      "source": [
        "#11. Write a Python program that uses a try-except block to handle an error when attempting to access a\n",
        "#dictionary key that doesn't exist.\n",
        "\n",
        "dict = {\"These\": 1, \"are\": 2, \"words\": 3}\n",
        "while True:\n",
        "    try:\n",
        "        w = input(\"Enter a word: \")\n",
        "    except:\n",
        "        print(\"That word is not a key in the dictionary, try again\")\n",
        "    else:\n",
        "        print(\"That word is a key in the dictionary\")"
      ]
    },
    {
      "cell_type": "code",
      "execution_count": null,
      "metadata": {
        "colab": {
          "base_uri": "https://localhost:8080/"
        },
        "id": "3FxC3EhYRjhy",
        "outputId": "ef3fe29f-fe1e-4660-f8b4-561b8d8d35fe"
      },
      "outputs": [
        {
          "name": "stdout",
          "output_type": "stream",
          "text": [
            "Fetching URL: valid_url\n"
          ]
        }
      ],
      "source": [
        "#12. Write a program that demonstrates using multiple except blocks to handle different types of exceptions.\n",
        "\n",
        "class Client:\n",
        "\t  def get_url(self , url):\n",
        "\t\t\t  if url == \"invalid_url\":\n",
        "\t\t\t\t\t  raise ValueError(\"Ivalid URL format\")\n",
        "\t\t\t  print(f\"Fetching URL: {url}\")\n",
        "\n",
        "\n",
        "def remove_url(self, url):\n",
        "\t\t\t  print(f\"Removing URL:{url}\")\n",
        "\n",
        "client_obj = Client()\n",
        "\n",
        "url = \"valid_url\"\n",
        "\n",
        "try:\n",
        "\t  client_obj.get_url(url)\n",
        "except (KeyError, ValueError, IndexError) as e:\n",
        "\t  print(f\"An error occurred: {e}\")\n",
        "\t  client_obj.remove_url(url)\n"
      ]
    },
    {
      "cell_type": "code",
      "execution_count": null,
      "metadata": {
        "colab": {
          "base_uri": "https://localhost:8080/"
        },
        "id": "7PfkgsSeSMCX",
        "outputId": "c9cec2ce-c004-445c-e250-bbd90ea62597"
      },
      "outputs": [
        {
          "name": "stdout",
          "output_type": "stream",
          "text": [
            "True\n"
          ]
        }
      ],
      "source": [
        "#13. How would you check if a file exists before attempting to read it in Python?\n",
        "\n",
        "path = '/usr/local/bin/'\n",
        "isExist = os.path.exists(path)\n",
        "print(isExist)"
      ]
    },
    {
      "cell_type": "code",
      "execution_count": null,
      "metadata": {
        "id": "4E8v0irpTAmf"
      },
      "outputs": [],
      "source": [
        "#14. Write a program that uses the logging module to log both informational and error messages.\n"
      ]
    },
    {
      "cell_type": "code",
      "execution_count": null,
      "metadata": {
        "colab": {
          "base_uri": "https://localhost:8080/"
        },
        "id": "r2OpnzVuTWU1",
        "outputId": "a5d00f50-9aff-4699-86e6-2b14f1027266"
      },
      "outputs": [
        {
          "name": "stdout",
          "output_type": "stream",
          "text": [
            "File Content:\n",
            " Mango Banana Orange Mango Mango\n",
            "\n"
          ]
        }
      ],
      "source": [
        "#15. Write a Python program that prints the content of a file and handles the case when the file is empty.\n",
        "\n",
        "file_path = 'sample.txt'\n",
        "\n",
        "try:\n",
        "    with open(file_path, 'r') as file:\n",
        "        file_content = file.read()\n",
        "\n",
        "        print(\"File Content:\\n\", file_content)\n",
        "\n",
        "except FileNotFoundError:\n",
        "    print(f\"File '{file_path}' not found.\")\n",
        "except Exception as e:\n",
        "    print(f\"An error occurred: {e}\")\n"
      ]
    },
    {
      "cell_type": "code",
      "execution_count": 8,
      "metadata": {
        "id": "OdEj_HMEU-0o",
        "colab": {
          "base_uri": "https://localhost:8080/"
        },
        "outputId": "53b6119b-b34a-4962-97a2-fb1adc75426e"
      },
      "outputs": [
        {
          "output_type": "stream",
          "name": "stdout",
          "text": [
            "Requirement already satisfied: memory_profiler in /usr/local/lib/python3.11/dist-packages (0.61.0)\n",
            "Requirement already satisfied: psutil in /usr/local/lib/python3.11/dist-packages (from memory_profiler) (5.9.5)\n",
            "ERROR: Could not find file <ipython-input-8-55de406ef664>\n",
            "NOTE: %mprun can only be used on functions defined in physical files, and not in the IPython environment.\n",
            "Memory freed\n",
            "Could not find script memory_test.py\n"
          ]
        }
      ],
      "source": [
        "#16. Demonstrate how to use memory profiling to check the memory usage of a small program.\n",
        "\n",
        "!pip install memory_profiler\n",
        "\n",
        "import time\n",
        "from memory_profiler import profile\n",
        "\n",
        "@profile\n",
        "def allocate_memory():\n",
        "\n",
        "    large_list = [0] * 10000000\n",
        "    time.sleep(1)\n",
        "    del large_list\n",
        "    print(\"Memory freed\")\n",
        "\n",
        "if __name__ == \"__main__\":\n",
        "    allocate_memory()\n",
        "\n",
        "!python -m memory_profiler memory_test.py"
      ]
    },
    {
      "cell_type": "code",
      "execution_count": null,
      "metadata": {
        "colab": {
          "base_uri": "https://localhost:8080/"
        },
        "id": "h1Rk3fWRWpFH",
        "outputId": "476cd985-4597-4226-89ce-f118503fec4e"
      },
      "outputs": [
        {
          "name": "stdout",
          "output_type": "stream",
          "text": [
            "The list has been written to my.txt.\n"
          ]
        }
      ],
      "source": [
        "#17. Write a Python program to create and write a list of numbers to a file, one number per line.\n",
        "\n",
        "my_list = [ 1, 2, 3, 4, 5, 6, 7, 8, 9, 10]\n",
        "\n",
        "file_path = \"my.txt\"\n",
        "\n",
        "with open(file_path, \"w\") as file:\n",
        "  data_to_write = '\\n'.join(str(num) for num in my_list)\n",
        "\n",
        "  file.write(data_to_write)\n",
        "\n",
        "print(f\"The list has been written to {file_path}.\")"
      ]
    },
    {
      "cell_type": "code",
      "execution_count": null,
      "metadata": {
        "id": "KohLvQsrZiYh"
      },
      "outputs": [],
      "source": [
        "#18.  How would you implement a basic logging setup that logs to a file with rotation after 1MB?\n",
        "\n",
        "\n"
      ]
    },
    {
      "cell_type": "code",
      "execution_count": null,
      "metadata": {
        "colab": {
          "base_uri": "https://localhost:8080/"
        },
        "id": "s2O_3IViZrOg",
        "outputId": "d689a322-4436-401c-a815-fca947839223"
      },
      "outputs": [
        {
          "name": "stdout",
          "output_type": "stream",
          "text": [
            "Rahul's records doesn't exist\n"
          ]
        }
      ],
      "source": [
        "#19. Write a program that handles both IndexError and KeyError using a try-except block.\n",
        "\n",
        "subjects = {'Sree': 'Maths',\n",
        "            'Ram': 'Biology',\n",
        "            'Shyam': 'Science',\n",
        "            'Abdul': 'Hindi'}\n",
        "\n",
        "try:\n",
        "    print('subject of Rahul is:',\n",
        "          subjects['Rahul'])\n",
        "except(IndexError , KeyError):\n",
        "    print(\"Rahul's records doesn't exist\")\n"
      ]
    },
    {
      "cell_type": "code",
      "execution_count": null,
      "metadata": {
        "colab": {
          "base_uri": "https://localhost:8080/",
          "height": 110
        },
        "id": "2PsC1OL8bELr",
        "outputId": "412078a7-15a7-411b-9a54-ec8f5a3f1e88"
      },
      "outputs": [
        {
          "ename": "SyntaxError",
          "evalue": "invalid syntax (<ipython-input-9-bd7a5f21f27e>, line 5)",
          "output_type": "error",
          "traceback": [
            "\u001b[0;36m  File \u001b[0;32m\"<ipython-input-9-bd7a5f21f27e>\"\u001b[0;36m, line \u001b[0;32m5\u001b[0m\n\u001b[0;31m    Args:\u001b[0m\n\u001b[0m         ^\u001b[0m\n\u001b[0;31mSyntaxError\u001b[0m\u001b[0;31m:\u001b[0m invalid syntax\n"
          ]
        }
      ],
      "source": [
        "#20. How would you open a file and read its contents using a context manager in Python?\n",
        "\n",
        "def open_read_only(filename):\n",
        "\n",
        "  Args:\n",
        "    filename (str): The location of the file to read\n",
        "\n",
        "  Yields:\n",
        "    file object\n",
        "\n",
        "  read_only_file = open(filename, mode='r')\n",
        "\n",
        "with open_read_only('my_file.txt') as my_file:\n",
        "  print(my_file.read())"
      ]
    },
    {
      "cell_type": "code",
      "execution_count": null,
      "metadata": {
        "colab": {
          "base_uri": "https://localhost:8080/"
        },
        "id": "0h8A1NxFeAkU",
        "outputId": "b372618b-6e82-45ee-92d9-9b907e37c754"
      },
      "outputs": [
        {
          "name": "stdout",
          "output_type": "stream",
          "text": [
            "Occurrences of the word Mango : 3\n"
          ]
        }
      ],
      "source": [
        "#21. Write a Python program that reads a file and prints the number of occurrences of a specific word.\n",
        "\n",
        "with open(\"sample.txt\", 'w') as f:\n",
        "    f.write(\"Mango Banana Orange Mango Mango\\n\")\n",
        "\n",
        "word = \"Mango\"\n",
        "count = 0\n",
        "with open(\"sample.txt\", 'r') as f:\n",
        "\tfor line in f:\n",
        "\t\twords = line.split()\n",
        "\t\tfor i in words:\n",
        "\t\t\tif(i==word):\n",
        "\t\t\t\tcount=count+1\n",
        "print(\"Occurrences of the word\", word, \":\", count)\n",
        "\n",
        "\n",
        "\n",
        "\n"
      ]
    },
    {
      "cell_type": "code",
      "execution_count": null,
      "metadata": {
        "colab": {
          "base_uri": "https://localhost:8080/"
        },
        "id": "ReTundzWf773",
        "outputId": "8d63f808-8f08-4570-9d95-952bb1ca2a2c"
      },
      "outputs": [
        {
          "name": "stdout",
          "output_type": "stream",
          "text": [
            "File 'Test.txt' not found.\n"
          ]
        }
      ],
      "source": [
        "#22. How can you check if a file is empty before attempting to read its contents?\n",
        "import os\n",
        "\n",
        "if os.path.exists(\"Test.txt\"):\n",
        "    with open (\"Test.txt\" , \"r+\") as f:\n",
        "     f.seek(0)\n",
        "     if f.read() == \"\" :\n",
        "         print(\"No text\")\n",
        "     else :\n",
        "         print (\"Got text\")\n",
        "else:\n",
        "   print(\"File 'Test.txt' not found.\")\n",
        "\n"
      ]
    },
    {
      "cell_type": "code",
      "execution_count": null,
      "metadata": {
        "colab": {
          "base_uri": "https://localhost:8080/"
        },
        "id": "yf8Qzp9EgBGo",
        "outputId": "2e96cc24-0c7e-47f5-b6c5-09030f6280bf"
      },
      "outputs": [
        {
          "output_type": "stream",
          "name": "stdout",
          "text": [
            "Pwskills\n"
          ]
        }
      ],
      "source": [
        "#23.  Write a Python program that writes to a log file when an error occurs during file handling.\n",
        "\n",
        "import logging\n",
        "\n",
        "try:\n",
        "    print(\"Pwskills\")\n",
        "except Exception as Argument:\n",
        "    logging.exception(\"Error occurred while printing Pwskills\")"
      ]
    }
  ],
  "metadata": {
    "colab": {
      "provenance": []
    },
    "kernelspec": {
      "display_name": "Python 3",
      "name": "python3"
    },
    "language_info": {
      "name": "python"
    }
  },
  "nbformat": 4,
  "nbformat_minor": 0
}